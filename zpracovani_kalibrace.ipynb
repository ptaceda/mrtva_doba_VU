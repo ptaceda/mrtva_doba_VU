{
 "cells": [
  {
   "cell_type": "code",
   "execution_count": 1,
   "metadata": {},
   "outputs": [
    {
     "name": "stdout",
     "output_type": "stream",
     "text": [
      "Current working directory: /Users/danielptacek/Desktop/mrtva_doba_VU\n"
     ]
    }
   ],
   "source": [
    "### SPUSTIT TOHLE NA PC PŘED PRACÍ !!\n",
    "\n",
    "import os\n",
    "import sys\n",
    "\n",
    "# Set the working directory to the project directory\n",
    "device = input(\"Zadej prosím, na jakém zařízení děláš (mac/doma/prace): \")\n",
    "if device == \"doma\":\n",
    "    project_dir = r\"C:/Users/danie/Desktop/mrtva_doba_VU\"\n",
    "    os.chdir(project_dir)\n",
    "elif device == \"mac\":\n",
    "    project_dir = r\"/Users/danielptacek/Desktop/mrtva_doba_VU\"\n",
    "    os.chdir(project_dir)\n",
    "else:\n",
    "    project_dir = r\"U:/Dokumenty/mrtva_doba_VU\"\n",
    "    os.chdir(project_dir)\n",
    "\n",
    "\n",
    "# Verify the change\n",
    "print(\"Current working directory:\", os.getcwd()) \n",
    "\n",
    "# Ensure the project directory is in sys.path\n",
    "if project_dir not in sys.path:\n",
    "    sys.path.append(project_dir)\n",
    "\n",
    "import pydicom # type: ignore\n",
    "import matplotlib.pyplot as plt # type: ignore\n",
    "import pandas as pd # type: ignore\n",
    "from glob import glob\n",
    "from codes.custom_library import Graf_1_2\n",
    "\n",
    "aktivity = {\n",
    "    \"20240708\" : 700.589,\n",
    "    \"20240709\" : 640.979,\n",
    "    \"20240710\" : 586.294,\n",
    "    \"20240711\" : 537.692,\n",
    "    \"20240712\" : 495.958,\n",
    "    \"20240714\" : 404.370,\n",
    "    \"20240715\" : 379.365,\n",
    "    \"20240717\" : 324.319,\n",
    "    \"20240719\" : 266.596,\n",
    "    \"20240721\" : 226.576,\n",
    "    \"20240723\" : 190.942,\n",
    "    \"20240725\" : 158.536,\n",
    "    \"20240726\" : 152.496,\n",
    "    \"20240729\" : 115.038,\n",
    "    \"20240731\" : 93.633,\n",
    "    \"20240805\" : 62.613,\n",
    "    \"20240808\" : 49.233,\n",
    "    \"20240812\" : 34.167,\n",
    "    \"20240815\" : 26.602,\n",
    "    \"20240819\" : 18.401\n",
    "}"
   ]
  },
  {
   "cell_type": "code",
   "execution_count": 56,
   "metadata": {},
   "outputs": [
    {
     "name": "stdout",
     "output_type": "stream",
     "text": [
      "[np.float64(8.610315000089054), np.float64(8.392780396701031), np.float64(8.804130307555537), np.float64(8.51944386234267), np.float64(8.621884465297367)]\n"
     ]
    },
    {
     "data": {
      "image/png": "[encoded data removed]",
      "text/plain": [
       "<Figure size 640x480 with 1 Axes>"
      ]
     },
     "metadata": {},
     "output_type": "display_data"
    }
   ],
   "source": [
    "#### planarni kalibrace Discovery\n",
    "\n",
    "\n",
    "from dicom_file_separator import separate_dicom_file\n",
    "import matplotlib.pyplot as plt\n",
    "from tew_correction import tew_correction\n",
    "from codes.custom_library import region_growing\n",
    "import numpy as np\n",
    "from glob import glob\n",
    "\n",
    "kalibrace_folder = \"KALIBRACE_20240815/Kalibrace_plan_20240815_Discovery\"\n",
    "kalibrace_mds = sorted(glob(os.path.join(kalibrace_folder, 'Kalibrace*')))\n",
    "\n",
    "prah = 0.1\n",
    "\n",
    "hlava_1_kal_faktory = []\n",
    "hlava_1_tew_kal_faktory = []\n",
    "hlava_2_kal_faktory = []\n",
    "hlava_2_tew_kal_faktory = []\n",
    "\n",
    "\n",
    "for md in kalibrace_mds:\n",
    "    image = separate_dicom_file(md)\n",
    "\n",
    "    acq_time = image[\"Acq_time\"]\n",
    "    acq_date = image[\"Acq_date\"]\n",
    "\n",
    "    hlava_1 = image[\"Head1_EM\"]\n",
    "    hlava_1_tew = tew_correction(image[\"Head1_EM\"], image[\"Head1_SC1\"], image[\"Head1_SC2\"])\n",
    "    hlava_2 = image[\"Head2_EM\"]\n",
    "    hlava_2_tew = tew_correction(image[\"Head2_EM\"], image[\"Head2_SC1\"], image[\"Head2_SC2\"])\n",
    "\n",
    "    maska_1 = region_growing(hlava_1, prah*np.max(hlava_1))\n",
    "    maska_1_tew = region_growing(hlava_1_tew, prah*np.max(hlava_1_tew))\n",
    "    maska_2 = region_growing(hlava_2, prah*np.max(hlava_2))\n",
    "    maska_2_tew = region_growing(hlava_2_tew, prah*np.max(hlava_2_tew))\n",
    "\n",
    "    kal_faktor_1 = (np.sum(hlava_1*maska_1) / acq_time) / aktivity[acq_date]\n",
    "    kal_faktor_1_tew = (np.sum(hlava_1_tew*maska_1_tew) / acq_time) / aktivity[acq_date]\n",
    "    kal_faktor_2 = (np.sum(hlava_2*maska_2) / acq_time) / aktivity[acq_date]\n",
    "    kal_faktor_2_tew = (np.sum(hlava_2_tew*maska_2_tew) / acq_time) / aktivity[acq_date]\n",
    "\n",
    "    hlava_1_kal_faktory.append(kal_faktor_1)\n",
    "    hlava_1_tew_kal_faktory.append(kal_faktor_1_tew)\n",
    "    hlava_2_kal_faktory.append(kal_faktor_2)\n",
    "    hlava_2_tew_kal_faktory.append(kal_faktor_2_tew)\n",
    "\n",
    "print(hlava_2_kal_faktory)\n",
    "\n",
    "\n",
    "\n",
    "\n",
    "\n",
    "\n",
    "\n",
    "\n"
   ]
  }
 ],
 "metadata": {
  "kernelspec": {
   "display_name": "Python 3",
   "language": "python",
   "name": "python3"
  },
  "language_info": {
   "codemirror_mode": {
    "name": "ipython",
    "version": 3
   },
   "file_extension": ".py",
   "mimetype": "text/x-python",
   "name": "python",
   "nbconvert_exporter": "python",
   "pygments_lexer": "ipython3",
   "version": "3.12.5"
  }
 },
 "nbformat": 4,
 "nbformat_minor": 2
}
